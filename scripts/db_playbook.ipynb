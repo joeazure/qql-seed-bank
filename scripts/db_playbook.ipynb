{
 "cells": [
  {
   "cell_type": "code",
   "execution_count": 1,
   "metadata": {},
   "outputs": [
    {
     "data": {
      "text/plain": [
       "Promise { <pending> }"
      ]
     },
     "execution_count": 1,
     "metadata": {},
     "output_type": "execute_result"
    },
    {
     "name": "stdout",
     "output_type": "stream",
     "text": [
      "Synced db.\n"
     ]
    }
   ],
   "source": [
    "const utils = require(\"../app/utils\");\n",
    "const db = require(\"../app/models\");\n",
    "db.sequelize.sync()\n",
    "  .then(() => {\n",
    "    console.log(\"Synced db.\");\n",
    "  })\n",
    "  .catch((err) => {\n",
    "    console.log(\"Failed to sync db: \" + err.message);\n",
    "  });\n",
    "\n",
    "  const seed_db = require('../app/seed_db.js');"
   ]
  }
 ],
 "metadata": {
  "kernelspec": {
   "display_name": "JavaScript (Node.js)",
   "language": "javascript",
   "name": "javascript"
  },
  "language_info": {
   "file_extension": ".js",
   "mimetype": "application/javascript",
   "name": "javascript",
   "version": "16.13.2"
  },
  "orig_nbformat": 4
 },
 "nbformat": 4,
 "nbformat_minor": 2
}
