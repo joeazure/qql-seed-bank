{
 "cells": [
  {
   "cell_type": "code",
   "execution_count": 1,
   "metadata": {},
   "outputs": [
    {
     "ename": "Error",
     "evalue": "Cannot find module '../app/utils'\nRequire stack:\n- /Users/jazure/Development/qql-headless/[eval]",
     "output_type": "error",
     "traceback": [
      "node:internal/modules/cjs/loader:998",
      "  throw err;",
      "  ^",
      "",
      "Error: Cannot find module '../app/utils'",
      "Require stack:",
      "- /Users/jazure/Development/qql-headless/[eval]",
      "    at Module._resolveFilename (node:internal/modules/cjs/loader:995:15)",
      "    at Module._load (node:internal/modules/cjs/loader:841:27)",
      "    at Module.require (node:internal/modules/cjs/loader:1061:19)",
      "    at require (node:internal/modules/cjs/helpers:103:18)",
      "    at evalmachine.<anonymous>:1:15",
      "    at Script.runInThisContext (node:vm:129:12)",
      "    at Object.runInThisContext (node:vm:313:38)",
      "    at run ([eval]:1020:15)",
      "    at onRunRequest ([eval]:864:18)",
      "    at onMessage ([eval]:828:13)"
     ]
    }
   ],
   "source": [
    "const utils = require(\"../app/utils\");"
   ]
  }
 ],
 "metadata": {
  "kernelspec": {
   "display_name": "JavaScript (Node.js)",
   "language": "javascript",
   "name": "javascript"
  },
  "language_info": {
   "file_extension": ".js",
   "mimetype": "application/javascript",
   "name": "javascript",
   "version": "18.11.0"
  },
  "orig_nbformat": 4
 },
 "nbformat": 4,
 "nbformat_minor": 2
}
