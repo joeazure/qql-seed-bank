{
 "cells": [
  {
   "cell_type": "code",
   "execution_count": 1,
   "metadata": {},
   "outputs": [],
   "source": [
    "const utils = require(\"../app/utils\");"
   ]
  },
  {
   "cell_type": "code",
   "execution_count": 4,
   "metadata": {},
   "outputs": [
    {
     "name": "stdout",
     "output_type": "stream",
     "text": [
      "Re-rendering webp file for seed: 0xed884d09749a358b31b384876c086c4bd88902872dc508156464ffff1129cd56\n"
     ]
    },
    {
     "data": {
      "text/plain": [
       "Promise { <pending> }"
      ]
     },
     "execution_count": 4,
     "metadata": {},
     "output_type": "execute_result"
    },
    {
     "name": "stdout",
     "output_type": "stream",
     "text": [
      "{\n",
      "  backgroundColor: 'Miami White',\n",
      "  colorsUsed: [ 'mYellow', 'mPurple', 'mOrange', 'mTeal' ],\n",
      "  numPoints: 10070,\n",
      "  numColors: 4\n",
      "}\n",
      "Writing webp data to: /Volumes/G-RAID1/qql-outputs/tmp/2022-11-15T22:06:47.895Z-0xed884d09749a358b31b384876c086c4bd88902872dc508156464ffff1129cd56.png.webp\n"
     ]
    }
   ],
   "source": [
    "var f = \"2022-11-15T22:06:47.895Z-0xed884d09749a358b31b384876c086c4bd88902872dc508156464ffff1129cd56.png.webp\";\n",
    "var tmpPath = \"/Volumes/G-RAID1/qql-outputs/tmp\"\n",
    "utils.reRenderFile(tmpPath, f, 1200);"
   ]
  },
  {
   "cell_type": "markdown",
   "metadata": {},
   "source": []
  },
  {
   "cell_type": "code",
   "execution_count": null,
   "metadata": {},
   "outputs": [],
   "source": [
    "const { ArgumentParser } = require(\"argparse\");\n"
   ]
  },
  {
   "cell_type": "code",
   "execution_count": null,
   "metadata": {},
   "outputs": [],
   "source": [
    "\n",
    "var parser = new ArgumentParser({ description: 'Bulk Render QQL outputs.' });\n",
    "parser.add_argument(\"--output\", \"--o\", {help: \"The directory for the output files\", required: true});\n",
    "parser.add_argument(\"--wallet\", \"--w\", {help: \"The ethereum wallet address (0x...)\", required: true});\n",
    "parser.add_argument(\"--traits\", {help: \"The named traits to render for (do not inlude '.json')\", default: \"random\"});\n",
    "parser.add_argument(\"--two_rings\", {help: \"Set to 'yes' to hack seed for 2-ring outputs\", type: Boolean, default: false});\n",
    "parser.add_argument(\"--palette_override\", {help: \"Set to a palette name or 'random' to override the palette in the named 'traits'\"});\n",
    "parser.add_argument(\"--use_db\", {help: \"Set to 'yes' to store the seed database into the database\", type: Boolean, default: false});\n",
    "parser.add_argument(\"--render_host\", {help: \"The hostname to use for saving to the database. Ignored when use-db is false.\"});\n",
    "parser.add_argument(\"count\", {type: 'int', help: \"The number of outputs to render\"});\n"
   ]
  },
  {
   "cell_type": "code",
   "execution_count": null,
   "metadata": {},
   "outputs": [],
   "source": [
    "var args = [\"--output\", \"./tmp\", \"--wallet\", \"0xblah\", \"--use_db\", false, 10];\n",
    "\n",
    "a = parser.parse_args(args);\n",
    "console.log(a);\n",
    "\n",
    "console.log(a.output);\n",
    "console.log(a.two_rings);\n",
    "console.log(a.use_db);\n"
   ]
  },
  {
   "cell_type": "code",
   "execution_count": null,
   "metadata": {},
   "outputs": [],
   "source": [
    "var token = 51;\n",
    "utils.traitsFromToken(token)\n",
    "    .then(function(r) {\n",
    "        console.log(r);\n",
    "    });\n"
   ]
  },
  {
   "cell_type": "code",
   "execution_count": 7,
   "metadata": {},
   "outputs": [
    {
     "name": "stdout",
     "output_type": "stream",
     "text": [
      "true\n"
     ]
    }
   ],
   "source": [
    "var renderData = {\n",
    "    backgroundColor: \"Fidenza Dark Blue\",\n",
    "    colorsUsed: [\n",
    "      \"fOrange\",\n",
    "      \"fPaleBlue\",\n",
    "      \"fYellow\",\n",
    "      \"fExtraDarkBlue\"\n",
    "    ],\n",
    "    numPoints: 30486,\n",
    "    numColors: 4\n",
    "  };\n",
    "\n",
    "console.log (renderData[\"colorsUsed\"].includes(\"fYellow\"));"
   ]
  }
 ],
 "metadata": {
  "kernelspec": {
   "display_name": "JavaScript (Node.js)",
   "language": "javascript",
   "name": "javascript"
  },
  "language_info": {
   "file_extension": ".js",
   "mimetype": "application/javascript",
   "name": "javascript",
   "version": "16.13.2"
  },
  "orig_nbformat": 4
 },
 "nbformat": 4,
 "nbformat_minor": 2
}
