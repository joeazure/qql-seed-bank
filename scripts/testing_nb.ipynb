{
 "cells": [
  {
   "cell_type": "code",
   "execution_count": 1,
   "metadata": {},
   "outputs": [],
   "source": [
    "const utils = require(\"../app/utils\");"
   ]
  },
  {
   "cell_type": "code",
   "execution_count": 2,
   "metadata": {},
   "outputs": [
    {
     "name": "stdout",
     "output_type": "stream",
     "text": [
      "{\n",
      "  flowField: 'Spiral',\n",
      "  turbulence: 'High',\n",
      "  margin: 'Wide',\n",
      "  colorVariety: 'High',\n",
      "  colorMode: 'Stacked',\n",
      "  structure: 'Orbital',\n",
      "  bullseyeRings1: 'Off',\n",
      "  bullseyeRings3: 'Off',\n",
      "  bullseyeRings7: 'On',\n",
      "  ringThickness: 'Thick',\n",
      "  ringSize: 'Medium',\n",
      "  sizeVariety: 'Wild',\n",
      "  colorPalette: 'Austin',\n",
      "  spacing: 'Medium',\n",
      "  version: 1\n",
      "}\n",
      "Seoul\n"
     ]
    }
   ],
   "source": [
    "var t = utils.traitsFromNamed(\"qql_138\");\n",
    "console.log(t);\n",
    "console.log(utils.randomPalette());"
   ]
  }
 ],
 "metadata": {
  "kernelspec": {
   "display_name": "JavaScript (Node.js)",
   "language": "javascript",
   "name": "javascript"
  },
  "language_info": {
   "file_extension": ".js",
   "mimetype": "application/javascript",
   "name": "javascript",
   "version": "18.11.0"
  },
  "orig_nbformat": 4
 },
 "nbformat": 4,
 "nbformat_minor": 2
}
