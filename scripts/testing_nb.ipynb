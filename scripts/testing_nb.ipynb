{
 "cells": [
  {
   "cell_type": "code",
   "execution_count": null,
   "metadata": {},
   "outputs": [],
   "source": [
    "const utils = require(\"../app/utils\");"
   ]
  },
  {
   "cell_type": "code",
   "execution_count": null,
   "metadata": {},
   "outputs": [],
   "source": [
    "var t = utils.traitsFromNamed(\"qql_138\");\n",
    "console.log(t);\n",
    "console.log(utils.randomPalette());"
   ]
  },
  {
   "cell_type": "code",
   "execution_count": 2,
   "metadata": {},
   "outputs": [],
   "source": [
    "const { ArgumentParser } = require(\"argparse\");\n"
   ]
  },
  {
   "cell_type": "code",
   "execution_count": 15,
   "metadata": {},
   "outputs": [
    {
     "data": {
      "text/plain": [
       "_StoreAction(option_strings=[], dest='count', nargs=undefined, const=undefined, default=undefined, type='int', choices=undefined, help='The number of outputs to render', metavar=undefined)"
      ]
     },
     "execution_count": 15,
     "metadata": {},
     "output_type": "execute_result"
    }
   ],
   "source": [
    "\n",
    "var parser = new ArgumentParser({ description: 'Bulk Render QQL outputs.' });\n",
    "parser.add_argument(\"--output\", \"--o\", {help: \"The directory for the output files\", required: true});\n",
    "parser.add_argument(\"--wallet\", \"--w\", {help: \"The ethereum wallet address (0x...)\", required: true});\n",
    "parser.add_argument(\"--traits\", {help: \"The named traits to render for (do not inlude '.json')\", default: \"random\"});\n",
    "parser.add_argument(\"--two_rings\", {help: \"Set to 'yes' to hack seed for 2-ring outputs\", type: Boolean, default: false});\n",
    "parser.add_argument(\"--palette_override\", {help: \"Set to a palette name or 'random' to override the palette in the named 'traits'\"});\n",
    "parser.add_argument(\"--use_db\", {help: \"Set to 'yes' to store the seed database into the database\", type: Boolean, default: false});\n",
    "parser.add_argument(\"--render_host\", {help: \"The hostname to use for saving to the database. Ignored when use-db is false.\"});\n",
    "parser.add_argument(\"count\", {type: 'int', help: \"The number of outputs to render\"});\n"
   ]
  },
  {
   "cell_type": "code",
   "execution_count": 16,
   "metadata": {},
   "outputs": [
    {
     "name": "stdout",
     "output_type": "stream",
     "text": [
      "Namespace(output='./tmp', wallet='0xblah', traits='random', two_rings=false, palette_override=undefined, use_db=true, render_host=undefined, count=10)\n",
      "./tmp\n",
      "false\n"
     ]
    }
   ],
   "source": [
    "var args = [\"--output\", \"./tmp\", \"--wallet\", \"0xblah\", \"--use_db\", \"yes\", 10];\n",
    "\n",
    "a = parser.parse_args(args);\n",
    "console.log(a);\n",
    "\n",
    "console.log(a.output);\n",
    "console.log(a.two_rings);\n"
   ]
  },
  {
   "cell_type": "code",
   "execution_count": null,
   "metadata": {},
   "outputs": [],
   "source": [
    "\n",
    "args = [\"-h\"];\n",
    "console.log(parser.parse_args(args));\n"
   ]
  }
 ],
 "metadata": {
  "kernelspec": {
   "display_name": "JavaScript (Node.js)",
   "language": "javascript",
   "name": "javascript"
  },
  "language_info": {
   "file_extension": ".js",
   "mimetype": "application/javascript",
   "name": "javascript",
   "version": "18.11.0"
  },
  "orig_nbformat": 4
 },
 "nbformat": 4,
 "nbformat_minor": 2
}
