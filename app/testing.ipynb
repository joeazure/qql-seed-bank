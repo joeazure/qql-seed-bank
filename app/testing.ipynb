{
 "cells": [
  {
   "cell_type": "code",
   "execution_count": null,
   "metadata": {},
   "outputs": [],
   "source": [
    "const models = require('./models');\n",
    "const Seed = models.seed;\n",
    "const Wallet = models.wallet;\n",
    "const utils = require(\"./app_utils\");\n"
   ]
  },
  {
   "cell_type": "code",
   "execution_count": null,
   "metadata": {},
   "outputs": [],
   "source": [
    "Seed.findOne({\n",
    "    where: {id: 1}, include: { all: true, nested: true} \n",
    "})\n",
    ".then((found) => {\n",
    "\n",
    "    console.log(found.get({plain:true}));\n",
    "\n",
    "    var s = utils.condense_seed(found);\n",
    "    // s[\"id\"] = found.id;\n",
    "    // s[\"seed\"] = found.full_hexseed;\n",
    "    // s[\"wallet\"] = found.wallet.address;\n",
    "    // s[\"traits\"] = utils.combined_traits(found);\n",
    "    console.log(s);\n",
    "\n",
    "   // console.log(foundUser.get().wallet);\n",
    "});\n",
    "\n",
    "// Wallet.findOne({\n",
    "//     where: {id: 1}, include: \"seeds\"\n",
    "// })\n",
    "// .then((found) => {\n",
    "//     console.log(found.seeds.length);\n",
    "// });\n"
   ]
  }
 ],
 "metadata": {
  "kernelspec": {
   "display_name": "JavaScript (Node.js)",
   "language": "javascript",
   "name": "javascript"
  },
  "language_info": {
   "file_extension": ".js",
   "mimetype": "application/javascript",
   "name": "javascript",
   "version": "18.11.0"
  },
  "orig_nbformat": 4,
  "vscode": {
   "interpreter": {
    "hash": "31f2aee4e71d21fbe5cf8b01ff0e069b9275f58929596ceb00d14d90e3e16cd6"
   }
  }
 },
 "nbformat": 4,
 "nbformat_minor": 2
}
