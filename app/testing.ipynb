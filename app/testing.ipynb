{
 "cells": [
  {
   "cell_type": "code",
   "execution_count": 1,
   "metadata": {},
   "outputs": [],
   "source": [
    "const models = require('./models');\n",
    "const Seed = models.seed;\n",
    "const Wallet = models.wallet;\n",
    "\n"
   ]
  },
  {
   "cell_type": "code",
   "execution_count": 8,
   "metadata": {},
   "outputs": [],
   "source": [
    "function combined_traits(seed_model) {\n",
    "    const ret = seed_model.trait.dataValues;\n",
    "    const render = seed_model.render;\n",
    "    ret[\"backgroundColor\"] = render.backgroundColor;\n",
    "    ret[\"numColors\"] = render.numColors;\n",
    "    ret[\"numPoint\"] = render.numPoints;\n",
    "    ret[\"colorList\"] = render.colorList;\n",
    "    return ret;\n",
    "}"
   ]
  },
  {
   "cell_type": "code",
   "execution_count": null,
   "metadata": {},
   "outputs": [
    {
     "data": {
      "text/plain": [
       "Promise { <pending> }"
      ]
     },
     "execution_count": 10,
     "metadata": {},
     "output_type": "execute_result"
    },
    {
     "name": "stdout",
     "output_type": "stream",
     "text": [
      "{\n",
      "  id: 1,\n",
      "  seed: '0x37b15e06ad0f4520ccdd8c2557d2a28da0354f7df0f1d6273a85ffff1061daaf',\n",
      "  wallet: '0x37b15e06ad0f4520ccdd8c2557d2a28da0354f7',\n",
      "  traits: {\n",
      "    id: 1,\n",
      "    seed_id: 1,\n",
      "    version: 1,\n",
      "    flowField: 'Random Radial',\n",
      "    turbulence: 'Low',\n",
      "    margin: 'Crisp',\n",
      "    colorVariety: 'Medium',\n",
      "    colorMode: 'Stacked',\n",
      "    structure: 'Orbital',\n",
      "    bullseyeRings1: 'On',\n",
      "    bullseyeRings2: null,\n",
      "    bullseyeRings3: 'Off',\n",
      "    bullseyeRings7: 'Off',\n",
      "    ringThickness: 'Thick',\n",
      "    ringSize: 'Small',\n",
      "    sizeVariety: 'Wild',\n",
      "    colorPalette: 'Berlin',\n",
      "    spacing: 'Dense',\n",
      "    createdAt: 2022-10-27T19:36:08.000Z,\n",
      "    updatedAt: 2022-10-27T19:36:08.000Z,\n",
      "    backgroundColor: 'Berlin Gray Blue',\n",
      "    numColors: 6,\n",
      "    numPoint: 14348,\n",
      "    colorList: 'bIntenseBlue,bIntenseBlue2,bDimOrange,bCoolDarkGreen,bRed,bGrayBlue'\n",
      "  }\n",
      "}\n"
     ]
    }
   ],
   "source": [
    "Seed.findOne({\n",
    "    where: {id: 1}, include: { all: true, nested: true} \n",
    "})\n",
    ".then((found) => {\n",
    "\n",
    "   // console.log(found.get({plain:true}));\n",
    "\n",
    "    var s = {};\n",
    "    s[\"id\"] = found.id;\n",
    "    s[\"seed\"] = found.full_hexseed;\n",
    "    s[\"wallet\"] = found.wallet.address;\n",
    "    s[\"traits\"] = combined_traits(found);\n",
    "    console.log(s);\n",
    "   // console.log(foundUser.get().wallet);\n",
    "});\n",
    "\n",
    "// Wallet.findOne({\n",
    "//     where: {id: 1}, include: \"seeds\"\n",
    "// })\n",
    "// .then((found) => {\n",
    "//     console.log(found.seeds.length);\n",
    "// });\n"
   ]
  }
 ],
 "metadata": {
  "kernelspec": {
   "display_name": "JavaScript (Node.js)",
   "language": "javascript",
   "name": "javascript"
  },
  "language_info": {
   "file_extension": ".js",
   "mimetype": "application/javascript",
   "name": "javascript",
   "version": "18.11.0"
  },
  "orig_nbformat": 4,
  "vscode": {
   "interpreter": {
    "hash": "31f2aee4e71d21fbe5cf8b01ff0e069b9275f58929596ceb00d14d90e3e16cd6"
   }
  }
 },
 "nbformat": 4,
 "nbformat_minor": 2
}
